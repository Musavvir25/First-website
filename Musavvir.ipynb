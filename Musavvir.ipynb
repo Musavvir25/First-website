{
  "nbformat": 4,
  "nbformat_minor": 0,
  "metadata": {
    "colab": {
      "provenance": [],
      "authorship_tag": "ABX9TyNRTgJUU3mmNyFXt1evBBId",
      "include_colab_link": true
    },
    "kernelspec": {
      "name": "python3",
      "display_name": "Python 3"
    },
    "language_info": {
      "name": "python"
    }
  },
  "cells": [
    {
      "cell_type": "markdown",
      "metadata": {
        "id": "view-in-github",
        "colab_type": "text"
      },
      "source": [
        "<a href=\"https://colab.research.google.com/github/Musavvir25/First-website/blob/main/Musavvir.ipynb\" target=\"_parent\"><img src=\"https://colab.research.google.com/assets/colab-badge.svg\" alt=\"Open In Colab\"/></a>"
      ]
    },
    {
      "cell_type": "code",
      "execution_count": 4,
      "metadata": {
        "colab": {
          "base_uri": "https://localhost:8080/"
        },
        "id": "cvJsc5-QbsBh",
        "outputId": "1cf8df17-06e3-4964-9427-ae76920b52db"
      },
      "outputs": [
        {
          "output_type": "stream",
          "name": "stdout",
          "text": [
            "Dataset preview:\n",
            "   Unnamed: 0                         Brand me  Ratings  RAM    ROM  \\\n",
            "0           0            LG V30+ (Black, 128 )      4.3  4.0  128.0   \n",
            "1           1                       I Kall K11      3.4  6.0   64.0   \n",
            "2           2                     Nokia 105 ss      4.3  4.0    4.0   \n",
            "3           3  Samsung Galaxy A50 (White, 64 )      4.4  6.0   64.0   \n",
            "4           4       POCO F1 (Steel Blue, 128 )      4.5  6.0  128.0   \n",
            "\n",
            "   Mobile_Size  Primary_Cam  Selfi_Cam  Battery_Power  Price  \n",
            "0         6.00           48       13.0           4000  24999  \n",
            "1         4.50           48       12.0           4000  15999  \n",
            "2         4.50           64       16.0           4000  15000  \n",
            "3         6.40           48       15.0           3800  18999  \n",
            "4         6.18           35       15.0           3800  18999  \n",
            "Mean Squared Error: 1902717426.900634\n"
          ]
        }
      ],
      "source": [
        "import pandas as pd\n",
        "from sklearn.model_selection import train_test_split\n",
        "from sklearn.linear_model import LinearRegression\n",
        "from sklearn.metrics import mean_squared_error\n",
        "\n",
        "# Correct path to the CSV file\n",
        "file_path = '/content/Mobile Price Prediction Datatset.csv'\n",
        "\n",
        "# Load the dataset\n",
        "data = pd.read_csv(file_path)\n",
        "\n",
        "# Display the first few rows of the dataset to understand its structure\n",
        "print(\"Dataset preview:\")\n",
        "print(data.head())\n",
        "\n",
        "# Check for missing values and fill them with the column mean\n",
        "data.fillna(data.mean(numeric_only=True), inplace=True)\n",
        "\n",
        "# Drop non-numeric or irrelevant columns if necessary\n",
        "# Assuming 'Price' is the target column and others are features\n",
        "# Modify this based on your dataset structure\n",
        "data = data.select_dtypes(include=['number'])\n",
        "\n",
        "# Split into features (X) and target (y)\n",
        "X = data.drop(columns=['Price'], errors='ignore')  # Replace 'Price' with the actual target column\n",
        "y = data['Price']  # Replace 'Price' with the actual target column\n",
        "\n",
        "# Check if the target column exists\n",
        "if 'Price' not in data.columns:\n",
        "    raise ValueError(\"Target column 'Price' not found in the dataset. Please verify the column name.\")\n",
        "\n",
        "# Split the data into training and testing sets\n",
        "X_train, X_test, y_train, y_test = train_test_split(X, y, test_size=0.2, random_state=42)\n",
        "\n",
        "# Initialize and train the model\n",
        "model = LinearRegression()\n",
        "model.fit(X_train, y_train)\n",
        "\n",
        "# Predict on the test set\n",
        "y_pred = model.predict(X_test)\n",
        "\n",
        "# Evaluate the model\n",
        "mse = mean_squared_error(y_test, y_pred)\n",
        "print(\"Mean Squared Error:\", mse)\n"
      ]
    }
  ]
}