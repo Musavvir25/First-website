{
  "nbformat": 4,
  "nbformat_minor": 0,
  "metadata": {
    "colab": {
      "provenance": [],
      "authorship_tag": "ABX9TyOYxXwlEqaZqp2RRDzL6dJo",
      "include_colab_link": true
    },
    "kernelspec": {
      "name": "python3",
      "display_name": "Python 3"
    },
    "language_info": {
      "name": "python"
    }
  },
  "cells": [
    {
      "cell_type": "markdown",
      "metadata": {
        "id": "view-in-github",
        "colab_type": "text"
      },
      "source": [
        "<a href=\"https://colab.research.google.com/github/Musavvir25/First-website/blob/main/Mu11savvir.ipynb\" target=\"_parent\"><img src=\"https://colab.research.google.com/assets/colab-badge.svg\" alt=\"Open In Colab\"/></a>"
      ]
    },
    {
      "cell_type": "code",
      "execution_count": 15,
      "metadata": {
        "colab": {
          "base_uri": "https://localhost:8080/"
        },
        "id": "cvJsc5-QbsBh",
        "outputId": "7c28dd2c-1e47-408e-acbc-56f12fceb146"
      },
      "outputs": [
        {
          "output_type": "stream",
          "name": "stdout",
          "text": [
            "Epoch [10/300], Loss: 0.191177\n",
            "Epoch [20/300], Loss: 0.091832\n",
            "Epoch [30/300], Loss: 0.082784\n",
            "Epoch [40/300], Loss: 0.072293\n",
            "Epoch [50/300], Loss: 0.062110\n",
            "Epoch [60/300], Loss: 0.065546\n",
            "Epoch [70/300], Loss: 0.058577\n",
            "Epoch [80/300], Loss: 0.064985\n",
            "Epoch [90/300], Loss: 0.057849\n",
            "Epoch [100/300], Loss: 0.055324\n",
            "Epoch [110/300], Loss: 0.058637\n",
            "Epoch [120/300], Loss: 0.057290\n",
            "Epoch [130/300], Loss: 0.056134\n",
            "Epoch [140/300], Loss: 0.056673\n",
            "Epoch [150/300], Loss: 0.057418\n",
            "Epoch [160/300], Loss: 0.059509\n",
            "Epoch [170/300], Loss: 0.055156\n",
            "Epoch [180/300], Loss: 0.055951\n",
            "Epoch [190/300], Loss: 0.059452\n",
            "Epoch [200/300], Loss: 0.056339\n",
            "Epoch [210/300], Loss: 0.049715\n",
            "Epoch [220/300], Loss: 0.055623\n",
            "Epoch [230/300], Loss: 0.053190\n",
            "Epoch [240/300], Loss: 0.053942\n",
            "Epoch [250/300], Loss: 0.055675\n",
            "Epoch [260/300], Loss: 0.053847\n",
            "Epoch [270/300], Loss: 0.055721\n",
            "Epoch [280/300], Loss: 0.054503\n",
            "Epoch [290/300], Loss: 0.055825\n",
            "Epoch [300/300], Loss: 0.058228\n",
            "Final Mean Squared Error: 2971435008.0\n",
            "Sample Predictions: [46090.54296875, -6443.0693359375, 310.4208068847656, -25782.650390625, -31806.517578125]\n"
          ]
        },
        {
          "output_type": "stream",
          "name": "stderr",
          "text": [
            "<ipython-input-15-0d47887a9bc0>:115: FutureWarning: You are using `torch.load` with `weights_only=False` (the current default value), which uses the default pickle module implicitly. It is possible to construct malicious pickle data which will execute arbitrary code during unpickling (See https://github.com/pytorch/pytorch/blob/main/SECURITY.md#untrusted-models for more details). In a future release, the default value for `weights_only` will be flipped to `True`. This limits the functions that could be executed during unpickling. Arbitrary objects will no longer be allowed to be loaded via this mode unless they are explicitly allowlisted by the user via `torch.serialization.add_safe_globals`. We recommend you start setting `weights_only=True` for any use case where you don't have full control of the loaded file. Please open an issue on GitHub for any issues related to this experimental feature.\n",
            "  model.load_state_dict(torch.load(\"mobile_price_prediction_optimized.pth\"))\n"
          ]
        }
      ],
      "source": [
        "import pandas as pd\n",
        "import numpy as np\n",
        "import torch\n",
        "import torch.nn as nn\n",
        "import torch.optim as optim\n",
        "from sklearn.model_selection import train_test_split\n",
        "from sklearn.preprocessing import MinMaxScaler\n",
        "from sklearn.metrics import mean_squared_error\n",
        "\n",
        "# Load dataset\n",
        "file_path = '/content/Mobile Price Prediction Datatset.csv'  # Update the correct path\n",
        "data = pd.read_csv(file_path)\n",
        "\n",
        "# Fill missing values with column mean\n",
        "data.fillna(data.mean(numeric_only=True), inplace=True)\n",
        "\n",
        "# Select numeric features\n",
        "data = data.select_dtypes(include=['number'])\n",
        "\n",
        "# Define features (X) and target variable (y)\n",
        "X = data.drop(columns=['Price'], errors='ignore')  # Ensure 'Price' is the target\n",
        "y = data['Price'].values.reshape(-1, 1)  # Modify if your target column has a different name\n",
        "\n",
        "# Normalize features and target using MinMaxScaler\n",
        "scaler_X = MinMaxScaler()\n",
        "scaler_y = MinMaxScaler()\n",
        "\n",
        "X = scaler_X.fit_transform(X)\n",
        "y = scaler_y.fit_transform(y)  # Normalized between 0 and 1\n",
        "\n",
        "# Split dataset into training (80%) and testing (20%) sets\n",
        "X_train, X_test, y_train, y_test = train_test_split(X, y, test_size=0.2, random_state=42)\n",
        "\n",
        "# Convert to PyTorch tensors\n",
        "X_train_tensor = torch.tensor(X_train, dtype=torch.float32)\n",
        "y_train_tensor = torch.tensor(y_train, dtype=torch.float32).view(-1, 1)\n",
        "X_test_tensor = torch.tensor(X_test, dtype=torch.float32)\n",
        "y_test_tensor = torch.tensor(y_test, dtype=torch.float32).view(-1, 1)\n",
        "\n",
        "# Define the Improved Neural Network Model\n",
        "class MobilePriceANN(nn.Module):\n",
        "    def __init__(self, input_size):\n",
        "        super(MobilePriceANN, self).__init__()\n",
        "        self.fc1 = nn.Linear(input_size, 128)\n",
        "        self.bn1 = nn.BatchNorm1d(128)\n",
        "        self.fc2 = nn.Linear(128, 64)\n",
        "        self.bn2 = nn.BatchNorm1d(64)\n",
        "        self.fc3 = nn.Linear(64, 32)\n",
        "        self.fc4 = nn.Linear(32, 16)\n",
        "        self.fc5 = nn.Linear(16, 1)  # Regression output\n",
        "\n",
        "        self.leaky_relu = nn.LeakyReLU(0.01)\n",
        "        self.dropout = nn.Dropout(0.3)  # Regularization\n",
        "\n",
        "        # Apply Xavier Initialization\n",
        "        for layer in [self.fc1, self.fc2, self.fc3, self.fc4, self.fc5]:\n",
        "            nn.init.xavier_uniform_(layer.weight)\n",
        "\n",
        "    def forward(self, x):\n",
        "        x = self.leaky_relu(self.bn1(self.fc1(x)))\n",
        "        x = self.dropout(x)\n",
        "        x = self.leaky_relu(self.bn2(self.fc2(x)))\n",
        "        x = self.dropout(x)\n",
        "        x = self.leaky_relu(self.fc3(x))\n",
        "        x = self.leaky_relu(self.fc4(x))\n",
        "        x = self.fc5(x)\n",
        "        return x\n",
        "\n",
        "# Initialize model\n",
        "input_size = X_train.shape[1]  # Number of features\n",
        "model = MobilePriceANN(input_size)\n",
        "\n",
        "# Define loss function (MSE + MAE) and optimizer\n",
        "criterion_mse = nn.MSELoss()\n",
        "criterion_mae = nn.L1Loss()  # MAE\n",
        "optimizer = optim.AdamW(model.parameters(), lr=0.001, weight_decay=1e-5)\n",
        "scheduler = optim.lr_scheduler.StepLR(optimizer, step_size=20, gamma=0.5)  # Reduce LR every 20 epochs\n",
        "\n",
        "# Training loop\n",
        "epochs = 300  # Increased epochs for better learning\n",
        "for epoch in range(epochs):\n",
        "    model.train()\n",
        "\n",
        "    optimizer.zero_grad()\n",
        "    outputs = model(X_train_tensor)\n",
        "\n",
        "    loss_mse = criterion_mse(outputs, y_train_tensor)\n",
        "    loss_mae = criterion_mae(outputs, y_train_tensor)\n",
        "    loss = 0.7 * loss_mse + 0.3 * loss_mae  # Weighted combination of MSE and MAE\n",
        "\n",
        "    loss.backward()\n",
        "    optimizer.step()\n",
        "    scheduler.step()  # Adjust learning rate\n",
        "\n",
        "    if (epoch + 1) % 10 == 0:\n",
        "        print(f'Epoch [{epoch+1}/{epochs}], Loss: {loss.item():.6f}')\n",
        "\n",
        "# Evaluate the model\n",
        "model.eval()\n",
        "with torch.no_grad():\n",
        "    predictions = model(X_test_tensor)\n",
        "\n",
        "# Convert predictions back to original scale\n",
        "y_pred = scaler_y.inverse_transform(predictions.numpy())\n",
        "y_actual = scaler_y.inverse_transform(y_test_tensor.numpy())\n",
        "\n",
        "# Final error calculation\n",
        "final_mse = mean_squared_error(y_actual, y_pred)\n",
        "print(\"Final Mean Squared Error:\", final_mse)\n",
        "\n",
        "# Save the trained model\n",
        "torch.save(model.state_dict(), \"mobile_price_prediction_optimized.pth\")\n",
        "\n",
        "# Load & Use the Model for Future Predictions\n",
        "model.load_state_dict(torch.load(\"mobile_price_prediction_optimized.pth\"))\n",
        "model.eval()\n",
        "\n",
        "with torch.no_grad():\n",
        "    test_predictions = model(X_test_tensor)\n",
        "\n",
        "# Convert back from MinMaxScaler and show sample predictions\n",
        "test_predictions = scaler_y.inverse_transform(test_predictions.numpy())\n",
        "print(\"Sample Predictions:\", test_predictions[:5].flatten().tolist())\n"
      ]
    },
    {
      "cell_type": "code",
      "source": [],
      "metadata": {
        "id": "jNDcceongzks"
      },
      "execution_count": 7,
      "outputs": []
    },
    {
      "cell_type": "code",
      "source": [],
      "metadata": {
        "colab": {
          "base_uri": "https://localhost:8080/"
        },
        "id": "0x25kaS0g4xX",
        "outputId": "fa609175-f6cf-4dae-90a9-671e19eee17c"
      },
      "execution_count": 8,
      "outputs": [
        {
          "output_type": "stream",
          "name": "stdout",
          "text": [
            "Epoch [10/100], Loss: 3244520704.0000\n",
            "Epoch [20/100], Loss: 3244517120.0000\n",
            "Epoch [30/100], Loss: 3244513024.0000\n",
            "Epoch [40/100], Loss: 3244507136.0000\n",
            "Epoch [50/100], Loss: 3244498944.0000\n",
            "Epoch [60/100], Loss: 3244486400.0000\n",
            "Epoch [70/100], Loss: 3244469248.0000\n",
            "Epoch [80/100], Loss: 3244444928.0000\n",
            "Epoch [90/100], Loss: 3244412160.0000\n",
            "Epoch [100/100], Loss: 3244369152.0000\n"
          ]
        }
      ]
    },
    {
      "cell_type": "code",
      "source": [],
      "metadata": {
        "colab": {
          "base_uri": "https://localhost:8080/"
        },
        "id": "9ZeKIIK5g-tA",
        "outputId": "ca485183-38ab-477d-cbdb-66ce34da28a3"
      },
      "execution_count": 9,
      "outputs": [
        {
          "output_type": "stream",
          "name": "stdout",
          "text": [
            "Mean Squared Error on Test Set: 2610195200.0\n"
          ]
        }
      ]
    },
    {
      "cell_type": "code",
      "source": [],
      "metadata": {
        "colab": {
          "base_uri": "https://localhost:8080/"
        },
        "id": "MWuBpG_ChDnW",
        "outputId": "fa683c6c-c5f1-4dd5-ba23-e64fdcca8323"
      },
      "execution_count": 10,
      "outputs": [
        {
          "output_type": "stream",
          "name": "stdout",
          "text": [
            "Sample Predictions: [5.839687824249268, 1.7985594272613525, 3.744877815246582, 1.843387484550476, 2.2065060138702393]\n"
          ]
        },
        {
          "output_type": "stream",
          "name": "stderr",
          "text": [
            "<ipython-input-10-a114c1db9ac2>:2: FutureWarning: You are using `torch.load` with `weights_only=False` (the current default value), which uses the default pickle module implicitly. It is possible to construct malicious pickle data which will execute arbitrary code during unpickling (See https://github.com/pytorch/pytorch/blob/main/SECURITY.md#untrusted-models for more details). In a future release, the default value for `weights_only` will be flipped to `True`. This limits the functions that could be executed during unpickling. Arbitrary objects will no longer be allowed to be loaded via this mode unless they are explicitly allowlisted by the user via `torch.serialization.add_safe_globals`. We recommend you start setting `weights_only=True` for any use case where you don't have full control of the loaded file. Please open an issue on GitHub for any issues related to this experimental feature.\n",
            "  model.load_state_dict(torch.load(\"mobile_price_prediction.pth\"))\n"
          ]
        }
      ]
    },
    {
      "cell_type": "code",
      "source": [],
      "metadata": {
        "colab": {
          "base_uri": "https://localhost:8080/"
        },
        "id": "jvGSda61iL_U",
        "outputId": "9bd93a99-6496-4244-8e4f-a2bb332dc00f"
      },
      "execution_count": 14,
      "outputs": [
        {
          "output_type": "stream",
          "name": "stdout",
          "text": [
            "Epoch [10/300], Loss: 0.062176\n",
            "Epoch [20/300], Loss: 0.047755\n",
            "Epoch [30/300], Loss: 0.040718\n",
            "Epoch [40/300], Loss: 0.040525\n",
            "Epoch [50/300], Loss: 0.035260\n",
            "Epoch [60/300], Loss: 0.031962\n",
            "Epoch [70/300], Loss: 0.033902\n",
            "Epoch [80/300], Loss: 0.032438\n",
            "Epoch [90/300], Loss: 0.033478\n",
            "Epoch [100/300], Loss: 0.032784\n",
            "Epoch [110/300], Loss: 0.031391\n",
            "Epoch [120/300], Loss: 0.032478\n",
            "Epoch [130/300], Loss: 0.035414\n",
            "Epoch [140/300], Loss: 0.034148\n",
            "Epoch [150/300], Loss: 0.032543\n",
            "Epoch [160/300], Loss: 0.031297\n",
            "Epoch [170/300], Loss: 0.033277\n",
            "Epoch [180/300], Loss: 0.031446\n",
            "Epoch [190/300], Loss: 0.033010\n",
            "Epoch [200/300], Loss: 0.031733\n",
            "Epoch [210/300], Loss: 0.032428\n",
            "Epoch [220/300], Loss: 0.032918\n",
            "Epoch [230/300], Loss: 0.032033\n",
            "Epoch [240/300], Loss: 0.031593\n",
            "Epoch [250/300], Loss: 0.034145\n",
            "Epoch [260/300], Loss: 0.033634\n",
            "Epoch [270/300], Loss: 0.032550\n",
            "Epoch [280/300], Loss: 0.032589\n",
            "Epoch [290/300], Loss: 0.034554\n",
            "Epoch [300/300], Loss: 0.032950\n",
            "Final Mean Squared Error: 2835847424.0\n",
            "Sample Predictions: [99835.09375, 8182.32763671875, 54287.93359375, 17288.705078125, 46029.46875]\n"
          ]
        },
        {
          "output_type": "stream",
          "name": "stderr",
          "text": [
            "<ipython-input-14-0d47887a9bc0>:115: FutureWarning: You are using `torch.load` with `weights_only=False` (the current default value), which uses the default pickle module implicitly. It is possible to construct malicious pickle data which will execute arbitrary code during unpickling (See https://github.com/pytorch/pytorch/blob/main/SECURITY.md#untrusted-models for more details). In a future release, the default value for `weights_only` will be flipped to `True`. This limits the functions that could be executed during unpickling. Arbitrary objects will no longer be allowed to be loaded via this mode unless they are explicitly allowlisted by the user via `torch.serialization.add_safe_globals`. We recommend you start setting `weights_only=True` for any use case where you don't have full control of the loaded file. Please open an issue on GitHub for any issues related to this experimental feature.\n",
            "  model.load_state_dict(torch.load(\"mobile_price_prediction_optimized.pth\"))\n"
          ]
        }
      ]
    },
    {
      "cell_type": "code",
      "source": [],
      "metadata": {
        "id": "P74cT7DCix6H"
      },
      "execution_count": null,
      "outputs": []
    }
  ]
}